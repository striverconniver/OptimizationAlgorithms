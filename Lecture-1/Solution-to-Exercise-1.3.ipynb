{
 "cells": [
  {
   "cell_type": "markdown",
   "id": "requested-typing",
   "metadata": {},
   "source": [
    "## <span style=\"color: forestgreen;\">Optimization Algorithms - Solution to Exercise 1.3</span>\n",
    "\n",
    "Graphically determine a minimizer of the function\n",
    "\n",
    "<p></p>\n",
    "\n",
    "<center><span style=\"font-weight: lighter;\">$\\large f(x_1, x_2) = (x_1 - 2)^2 + (x_2 - 1)^2,\\tag{1}$</span></center>\n",
    "\n",
    "<p>subject to constraints</p>\n",
    "\n",
    "##### <span style=\"color: black;\"><u>Constraint $c_1:$</u></span>\n",
    "\n",
    "<p></p>\n",
    "\n",
    "<center><span style=\"color: black;\">$x_1^2 - x_2 \\le 0\\tag{2}$</span></center>\n",
    "\n",
    "##### <span style=\"color: black;\"><u>Constraint $c_2:$</u></span>\n",
    "\n",
    "<p></p>\n",
    "\n",
    "<center><span style=\"color: black;\">$x_1 + x_2 \\le 2\\tag{3}$</span></center>\n",
    "\n",
    "<p></p>\n",
    "<br>\n",
    "<p>Use Python, numpy, and matplotlib to draw the function and the constraints, determine a minimizer visually, and\n",
    "    justify your answer. Is the minimizer <i>local</i> or <i>global</i>?</p>"
   ]
  },
  {
   "cell_type": "code",
   "execution_count": null,
   "id": "colonial-medline",
   "metadata": {},
   "outputs": [],
   "source": [
    "# Install numpy and matplotlib pip packages in the current Jupyter kernel;\n",
    "# we know these specific versions, numpy 1.19.3 and matplotlib 1.15.0, work.\n",
    "import sys\n",
    "!{sys.executable} -m pip install numpy==1.19.3\n",
    "!{sys.executable} -m pip install matplotlib==3.3.4"
   ]
  },
  {
   "cell_type": "code",
   "execution_count": null,
   "id": "assured-produce",
   "metadata": {},
   "outputs": [],
   "source": [
    "###############################################################################\n",
    "import numpy as np\n",
    "from matplotlib import pyplot as plt\n",
    "###############################################################################\n",
    "import SMPlotUtilities as smplt\n",
    "###############################################################################"
   ]
  },
  {
   "cell_type": "code",
   "execution_count": null,
   "id": "universal-request",
   "metadata": {
    "scrolled": true
   },
   "outputs": [],
   "source": [
    "from IPython.core.display import HTML\n",
    "HTML(\"\"\"\n",
    "<style>\n",
    ".output_png {\n",
    "    display: table-cell;\n",
    "    text-align: center;\n",
    "    vertical-align: middle;\n",
    "}\n",
    "</style>\n",
    "\"\"\")"
   ]
  },
  {
   "cell_type": "code",
   "execution_count": null,
   "id": "placed-injury",
   "metadata": {},
   "outputs": [],
   "source": [
    "###############################################################################\n",
    "plt.rcParams['figure.figsize'] = [smplt.mpSize[\"w\"], smplt.mpSize[\"h\"]]\n",
    "###############################################################################\n",
    "fig, ax = plt.subplots()\n",
    "###############################################################################\n",
    "smplt.EnvelopeRoundedCompact(ax, smplt.mp2RndBnds)\n",
    "###############################################################################\n",
    "#x1_points = np.arange(-0.25, 3.25, 0.01)\n",
    "#x2_points = np.arange(-0.25, 3.25, 0.01)\n",
    "###############################################################################\n",
    "x1, x2, f, levellist = smplt.TranslatedCircleCompact(smplt.mp2Pts, 0x2, 0x1)\n",
    "###############################################################################                     \n",
    "# Setup the PDF as a contour plot\n",
    "###############################################################################\n",
    "cp = ax.contour(x1, x2, f, levels=levellist, linewidths=2)\n",
    "###############################################################################\n",
    "# Set a colorbar legend to appear with the plot\n",
    "###############################################################################\n",
    "fig.colorbar(cp)\n",
    "###############################################################################\n",
    "# Constraint c1\n",
    "###############################################################################\n",
    "x1c = smplt.mp2C1[\"rng\"]\n",
    "c1 = x1c**2\n",
    "ax.plot(x1c, c1, smplt.mp2C1[\"attr\"][\"color\"], smplt.mp2C1[\"attr\"][\"lw\"],\n",
    "        smplt.mp2C1[\"attr\"][\"zorder\"])\n",
    "plt.text(smplt.mp2C1[\"txtx\"], smplt.mp2C1[\"txty\"], smplt.mp2C1[\"ineq\"],\n",
    "         smplt.mp2C1[\"tattr\"])\n",
    "###############################################################################\n",
    "# Constraint c2\n",
    "###############################################################################\n",
    "c2 = 2 - x1c\n",
    "ax.plot(x1c, c2, smplt.mp2C2[\"attr\"][\"color\"], smplt.mp2C2[\"attr\"][\"lw\"],\n",
    "        smplt.mp2C2[\"attr\"][\"zorder\"])\n",
    "plt.text(smplt.mp2C2[\"txtx\"], smplt.mp2C2[\"txty\"], smplt.mp2C2[\"ineq\"],\n",
    "         smplt.mp2C2[\"tattr\"])\n",
    "###############################################################################\n",
    "# Fill the \"feasible\" region with color DodgerBlue                                                       \n",
    "###############################################################################                    \n",
    "ax.fill_between(x1c, c1, c2, where=(c1 <= c2), facecolor='Chartreuse',\n",
    "                hatch='.', zorder=2)\n",
    "###############################################################################\n",
    "# Indicate the feasible region\n",
    "###############################################################################\n",
    "smplt.DrawArrow(plt, smplt.mp2C2[\"arrowsx\"], smplt.mp2C2[\"arrowsy\"],\n",
    "                smplt.mp2C2[\"arrowdx\"], smplt.mp2C2[\"arrowdy\"],\n",
    "                smplt.pCol[\"C\"], 2, 0.1, True, 0.1)\n",
    "plt.text(smplt.mp2C2[\"fsx\"], smplt.mp2C2[\"fsy\"], 'feasible region',\n",
    "         color=smplt.pCol[\"C\"], fontsize=\"large\", zorder=20)\n",
    "###############################################################################\n",
    "# Mark the lowest value of f in the feasible region\n",
    "###############################################################################\n",
    "plt.scatter([smplt.mp2C2[\"spx\"]], [smplt.mp2C2[\"spy\"]], s=160, zorder=50,\n",
    "            color=smplt.pCol[\"C\"])\n",
    "plt.text(smplt.mp2C2[\"sptx\"], smplt.mp2C2[\"spty\"], smplt.mp2C2[\"sptxt\"],\n",
    "         color=smplt.pCol[\"C\"], fontsize=\"large\", zorder=20)\n",
    "###############################################################################\n",
    "# Title, axis labels, extents, grid color, background and line style\n",
    "###############################################################################\n",
    "smplt.SetupPlotCompact(ax, plt, \"$x_1$\", \"$x_2$\", smplt.mp2Bnds, \"\",\n",
    "                       smplt.mp2C2[\"cap\"], smplt.mp2CapLoc) \n",
    "###############################################################################\n",
    "plt.show()"
   ]
  },
  {
   "cell_type": "markdown",
   "id": "brave-sperm",
   "metadata": {},
   "source": [
    "#### <span style=\"color: forestgreen;\">Informal Justification (without appealing to Necessary and Sufficient Conditions)</span>\n",
    "\n",
    "$f(x_1, x_2) \\ge 0, \\forall\\ (x_1, x_2) \\in \\mathbb{R}^2$ since $f$ is the sum of two square terms. In fact  $(x_1 - 2)^2 \\ge 0$ and $(x_2 - 1)^2 \\ge 0$, since each is a square. The least value that $f$ can take is $0$ and that can happen only when each of the two terms are $0$, which means $x_* = (x_1 = 2, x_2 = 1) = (2, 1)$. This $x_*$ is the <i>global</i> minimum, absent any constraints. Further, the value of $f$ increases radially away from $(2, 1)$ as shown by the level-set curves.\n",
    "\n",
    "<p>The question we have to ask ourselves in the presence of constraints, however, is, \"How close can we get to $(2, 1)$ while remaining within the feasible region?\" A visual inspection yields the answer of $(1, 1)$. From the geometry of the problem it is clear that $(1, 1)$ is also the <i>global</i> minimum in the presence of the constraints since every other point in the feasible region is further away from $(2, 1)$ than $(1, 1)$."
   ]
  }
 ],
 "metadata": {
  "kernelspec": {
   "display_name": "optalg",
   "language": "python",
   "name": "optalg"
  },
  "language_info": {
   "codemirror_mode": {
    "name": "ipython",
    "version": 3
   },
   "file_extension": ".py",
   "mimetype": "text/x-python",
   "name": "python",
   "nbconvert_exporter": "python",
   "pygments_lexer": "ipython3",
   "version": "3.8.6"
  }
 },
 "nbformat": 4,
 "nbformat_minor": 5
}
